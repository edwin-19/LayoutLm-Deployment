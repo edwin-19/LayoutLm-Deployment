{
 "cells": [
  {
   "cell_type": "code",
   "execution_count": 13,
   "id": "collected-navigation",
   "metadata": {},
   "outputs": [],
   "source": [
    "from layoutlm import FunsdDataset, LayoutlmConfig, LayoutlmForTokenClassification\n",
    "from transformers import BertTokenizer\n",
    "from layoutlm.data.funsd import read_examples_from_file, convert_examples_to_features\n",
    "\n",
    "from tqdm import tqdm, trange"
   ]
  },
  {
   "cell_type": "markdown",
   "id": "passing-machinery",
   "metadata": {},
   "source": [
    "# Utils functions"
   ]
  },
  {
   "cell_type": "code",
   "execution_count": null,
   "id": "internal-property",
   "metadata": {},
   "outputs": [],
   "source": [
    "examples = read_examples_from_file('data/', mode)"
   ]
  }
 ],
 "metadata": {
  "kernelspec": {
   "display_name": "Python 3",
   "language": "python",
   "name": "python3"
  },
  "language_info": {
   "codemirror_mode": {
    "name": "ipython",
    "version": 3
   },
   "file_extension": ".py",
   "mimetype": "text/x-python",
   "name": "python",
   "nbconvert_exporter": "python",
   "pygments_lexer": "ipython3",
   "version": "3.8.8"
  }
 },
 "nbformat": 4,
 "nbformat_minor": 5
}
