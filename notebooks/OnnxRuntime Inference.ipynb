{
 "cells": [
  {
   "cell_type": "code",
   "execution_count": 7,
   "metadata": {},
   "outputs": [],
   "source": [
    "import onnx\n",
    "import onnxruntime\n",
    "import numpy as np"
   ]
  },
  {
   "cell_type": "code",
   "execution_count": 3,
   "metadata": {},
   "outputs": [],
   "source": [
    "onnx_model = onnx.load(\"../deployment/layoutlm_onnx/1/model.onnx\")\n",
    "onnx.checker.check_model(onnx_model)"
   ]
  },
  {
   "cell_type": "code",
   "execution_count": 4,
   "metadata": {},
   "outputs": [],
   "source": [
    "sess_options = onnxruntime.SessionOptions()\n",
    "sess = onnxruntime.InferenceSession('../deployment/layoutlm_onnx/1/model.onnx', sess_options)"
   ]
  },
  {
   "cell_type": "code",
   "execution_count": 11,
   "metadata": {},
   "outputs": [
    {
     "name": "stdout",
     "output_type": "stream",
     "text": [
      "input name token_type_ids\n",
      "input shape ['batch_size', 512]\n",
      "input type tensor(int64)\n"
     ]
    }
   ],
   "source": [
    "index = 3\n",
    "input_name = sess.get_inputs()[index].name\n",
    "print(\"input name\", input_name)\n",
    "input_shape = sess.get_inputs()[index].shape\n",
    "print(\"input shape\", input_shape)\n",
    "input_type = sess.get_inputs()[index].type\n",
    "print(\"input type\", input_type)"
   ]
  },
  {
   "cell_type": "code",
   "execution_count": 6,
   "metadata": {},
   "outputs": [
    {
     "name": "stdout",
     "output_type": "stream",
     "text": [
      "output name output\n",
      "output shape ['batch_size', 512, 2]\n",
      "output type tensor(float)\n"
     ]
    }
   ],
   "source": [
    "output_name = sess.get_outputs()[0].name\n",
    "print(\"output name\", output_name)\n",
    "output_shape = sess.get_outputs()[0].shape\n",
    "print(\"output shape\", output_shape)\n",
    "output_type = sess.get_outputs()[0].type\n",
    "print(\"output type\", output_type)"
   ]
  },
  {
   "cell_type": "markdown",
   "metadata": {},
   "source": [
    "# Run inference"
   ]
  },
  {
   "cell_type": "code",
   "execution_count": 13,
   "metadata": {},
   "outputs": [],
   "source": [
    "input_ids = np.random.randint(0, 1, (1, 512))\n",
    "bbox = np.random.randint(0, 1, (1, 512, 4))\n",
    "attention_mask = np.random.randint(0, 1, (1, 512))\n",
    "token_type_ids = np.random.randint(0, 1, (1, 512))"
   ]
  },
  {
   "cell_type": "code",
   "execution_count": 16,
   "metadata": {},
   "outputs": [],
   "source": [
    "preds = sess.run([output_name], {\n",
    "    'input_ids':input_ids,\n",
    "    'bbox': bbox,\n",
    "    'attention_mask': attention_mask,\n",
    "    'token_type_ids': token_type_ids\n",
    "})[0]"
   ]
  }
 ],
 "metadata": {
  "kernelspec": {
   "display_name": "Python 3",
   "language": "python",
   "name": "python3"
  },
  "language_info": {
   "codemirror_mode": {
    "name": "ipython",
    "version": 3
   },
   "file_extension": ".py",
   "mimetype": "text/x-python",
   "name": "python",
   "nbconvert_exporter": "python",
   "pygments_lexer": "ipython3",
   "version": "3.6.10"
  }
 },
 "nbformat": 4,
 "nbformat_minor": 2
}
