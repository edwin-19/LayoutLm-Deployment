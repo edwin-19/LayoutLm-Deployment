{
 "cells": [
  {
   "cell_type": "code",
   "execution_count": 1,
   "id": "supported-alignment",
   "metadata": {},
   "outputs": [],
   "source": [
    "from layoutlm import FunsdDataset, LayoutlmConfig, LayoutlmForTokenClassification\n",
    "from transformers import BertTokenizer, AutoTokenizer\n",
    "from layoutlm.data.funsd import read_examples_from_file, convert_examples_to_features\n",
    "\n",
    "import torch\n",
    "import torch.nn as nn\n",
    "from torch.nn import CrossEntropyLoss\n",
    "from tqdm import tqdm, trange\n",
    "import numpy as np"
   ]
  },
  {
   "cell_type": "code",
   "execution_count": 3,
   "id": "provincial-mainland",
   "metadata": {},
   "outputs": [],
   "source": [
    "def get_labels(path):\n",
    "    with open(path, \"r\") as f:\n",
    "        labels = f.read().splitlines()\n",
    "    if \"O\" not in labels:\n",
    "        labels = [\"O\"] + labels\n",
    "    return labels"
   ]
  },
  {
   "cell_type": "markdown",
   "id": "organizational-import",
   "metadata": {},
   "source": [
    "# load data"
   ]
  },
  {
   "cell_type": "code",
   "execution_count": 2,
   "id": "signed-victorian",
   "metadata": {},
   "outputs": [],
   "source": [
    "tokenizer = AutoTokenizer.from_pretrained('model/layoutlm-base-uncased/')"
   ]
  },
  {
   "cell_type": "code",
   "execution_count": 4,
   "id": "bacterial-calibration",
   "metadata": {},
   "outputs": [],
   "source": [
    "labels = get_labels('data/infer_data/labels.txt')\n",
    "num_labels = len(labels)\n",
    "pad_token_label_id = CrossEntropyLoss().ignore_index"
   ]
  },
  {
   "cell_type": "code",
   "execution_count": 5,
   "id": "blond-plaza",
   "metadata": {},
   "outputs": [],
   "source": [
    "examples = read_examples_from_file('data/infer_data/', 'test')\n",
    "features = convert_examples_to_features(\n",
    "    examples, labels, 512,\n",
    "    tokenizer, cls_token_at_end=False, # xlnet has a cls token at the end\n",
    "    cls_token=tokenizer.cls_token, cls_token_segment_id=0,\n",
    "    sep_token=tokenizer.sep_token, sep_token_extra=False,\n",
    "    # roberta uses an extra separator b/w pairs of sentences, cf. github.com/pytorch/fairseq/commit/1684e166e3da03f5b600dbb7855cb98ddfcd0805\n",
    "    pad_on_left=False,\n",
    "    # pad on the left for xlnet\n",
    "    pad_token=tokenizer.convert_tokens_to_ids([tokenizer.pad_token])[0],\n",
    "    pad_token_segment_id=0,\n",
    "    pad_token_label_id=pad_token_label_id,\n",
    ")"
   ]
  },
  {
   "cell_type": "code",
   "execution_count": 6,
   "id": "literary-folks",
   "metadata": {},
   "outputs": [],
   "source": [
    "all_input_ids = torch.tensor(\n",
    "    [f.input_ids for f in features], dtype=torch.long\n",
    ")\n",
    "all_input_mask = torch.tensor(\n",
    "    [f.input_mask for f in features], dtype=torch.long\n",
    ")\n",
    "all_segment_ids = torch.tensor(\n",
    "    [f.segment_ids for f in features], dtype=torch.long\n",
    ")\n",
    "all_label_ids = torch.tensor(\n",
    "    [f.label_ids for f in features], dtype=torch.long\n",
    ")\n",
    "all_bboxes = torch.tensor([f.boxes for f in features], dtype=torch.long)"
   ]
  },
  {
   "cell_type": "markdown",
   "id": "determined-safety",
   "metadata": {},
   "source": [
    "# Prepare model"
   ]
  },
  {
   "cell_type": "code",
   "execution_count": 7,
   "id": "rotary-black",
   "metadata": {},
   "outputs": [
    {
     "name": "stderr",
     "output_type": "stream",
     "text": [
      "Some weights of the model checkpoint at model/layoutlm-base-uncased/ were not used when initializing LayoutlmForTokenClassification: ['cls.predictions.transform.dense.weight', 'cls.predictions.bias', 'cls.predictions.transform.LayerNorm.bias', 'cls.predictions.transform.dense.bias', 'cls.predictions.decoder.weight', 'cls.predictions.transform.LayerNorm.weight']\n",
      "- This IS expected if you are initializing LayoutlmForTokenClassification from the checkpoint of a model trained on another task or with another architecture (e.g. initializing a BertForSequenceClassification model from a BertForPreTraining model).\n",
      "- This IS NOT expected if you are initializing LayoutlmForTokenClassification from the checkpoint of a model that you expect to be exactly identical (initializing a BertForSequenceClassification model from a BertForSequenceClassification model).\n",
      "Some weights of LayoutlmForTokenClassification were not initialized from the model checkpoint at model/layoutlm-base-uncased/ and are newly initialized: ['classifier.bias', 'classifier.weight']\n",
      "You should probably TRAIN this model on a down-stream task to be able to use it for predictions and inference.\n"
     ]
    }
   ],
   "source": [
    "model = LayoutlmForTokenClassification.from_pretrained('model/layoutlm-base-uncased/')\n",
    "model.to('cuda')\n",
    "model.eval();"
   ]
  },
  {
   "cell_type": "code",
   "execution_count": 16,
   "id": "available-serbia",
   "metadata": {},
   "outputs": [],
   "source": [
    "class LayoutLM(nn.Module):\n",
    "    def __init__(self, model):\n",
    "        super(LayoutLM, self).__init__()\n",
    "        self.model = model\n",
    "        \n",
    "    def forward(self, input_ids, bbox, attention_mask, token_type_ids):\n",
    "        return self.model(\n",
    "            input_ids, bbox, attention_mask, token_type_ids\n",
    "        )[0]"
   ]
  },
  {
   "cell_type": "code",
   "execution_count": 17,
   "id": "danish-geometry",
   "metadata": {},
   "outputs": [],
   "source": [
    "layout_model = LayoutLM(model)\n",
    "layout_model.to('cuda')\n",
    "layout_model.eval();"
   ]
  },
  {
   "cell_type": "code",
   "execution_count": 18,
   "id": "metric-constitution",
   "metadata": {},
   "outputs": [],
   "source": [
    "inputs = {\n",
    "    'input_ids': all_input_ids[0].unsqueeze(0).to('cuda'),\n",
    "    'attention_mask': all_input_mask[0].unsqueeze(0).to('cuda'),\n",
    "    'token_type_ids': all_segment_ids[0].unsqueeze(0).to('cuda'),\n",
    "    'bbox': all_bboxes[0].unsqueeze(0).to('cuda')\n",
    "}"
   ]
  },
  {
   "cell_type": "code",
   "execution_count": 19,
   "id": "encouraging-interface",
   "metadata": {},
   "outputs": [],
   "source": [
    "with torch.no_grad():\n",
    "    outputs = layout_model(**inputs)"
   ]
  },
  {
   "cell_type": "markdown",
   "id": "conditional-terminal",
   "metadata": {},
   "source": [
    "# Convert to onnx model"
   ]
  },
  {
   "cell_type": "code",
   "execution_count": 23,
   "id": "inner-verse",
   "metadata": {},
   "outputs": [
    {
     "name": "stderr",
     "output_type": "stream",
     "text": [
      "/home/superceed1/anaconda3/envs/py38torch17/lib/python3.8/site-packages/transformers/modeling_utils.py:2158: TracerWarning: Converting a tensor to a Python boolean might cause the trace to be incorrect. We can't record the data flow of Python values, so this value will be treated as a constant in the future. This means that the trace might not generalize to other inputs!\n",
      "  assert all(\n"
     ]
    }
   ],
   "source": [
    "sample_inputs = (\n",
    "    inputs['input_ids'], inputs['bbox'], \n",
    "    inputs['attention_mask'], inputs['token_type_ids'], \n",
    ")\n",
    "torch.onnx.export(\n",
    "    layout_model, sample_inputs, 'deployment/layoutlm_onnx/1/model.onnx', export_params=True,\n",
    "    opset_version=11, do_constant_folding=True,\n",
    "    input_names=['input_ids', 'bbox', 'attention_mask', 'token_type_ids'], output_names=['output'],\n",
    "    dynamic_axes={\n",
    "        'input_ids' : {0 : 'batch_size'},    # variable lenght axes\n",
    "        'bbox' : {0 : 'batch_size'},\n",
    "        'attention_mask' : {0 : 'batch_size'},\n",
    "        'token_type_ids' : {0 : 'batch_size'},\n",
    "        'output' : {0 : 'batch_size'}\n",
    "    }\n",
    ")"
   ]
  }
 ],
 "metadata": {
  "kernelspec": {
   "display_name": "Python 3",
   "language": "python",
   "name": "python3"
  },
  "language_info": {
   "codemirror_mode": {
    "name": "ipython",
    "version": 3
   },
   "file_extension": ".py",
   "mimetype": "text/x-python",
   "name": "python",
   "nbconvert_exporter": "python",
   "pygments_lexer": "ipython3",
   "version": "3.8.8"
  }
 },
 "nbformat": 4,
 "nbformat_minor": 5
}
