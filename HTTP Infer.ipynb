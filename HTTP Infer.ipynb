{
 "cells": [
  {
   "cell_type": "code",
   "execution_count": 1,
   "id": "psychological-consortium",
   "metadata": {},
   "outputs": [],
   "source": [
    "import numpy as np\n",
    "import tritonclient.http as httpclient"
   ]
  },
  {
   "cell_type": "markdown",
   "id": "identical-detail",
   "metadata": {},
   "source": [
    "# Prepare inputs"
   ]
  },
  {
   "cell_type": "code",
   "execution_count": 2,
   "id": "removed-logistics",
   "metadata": {},
   "outputs": [],
   "source": [
    "client = httpclient.InferenceServerClient('localhost:8000')"
   ]
  },
  {
   "cell_type": "code",
   "execution_count": 3,
   "id": "based-lighting",
   "metadata": {},
   "outputs": [],
   "source": [
    "inputs= [\n",
    "    httpclient.InferInput(\n",
    "        \"input_ids\",\n",
    "        [1, 512],\n",
    "        \"INT64\"\n",
    "    ),\n",
    "    httpclient.InferInput(\n",
    "        \"attention_mask\",\n",
    "        [1, 512],\n",
    "        \"INT64\"\n",
    "    ),\n",
    "    httpclient.InferInput(\n",
    "        \"token_type_ids\",\n",
    "        [1, 512],\n",
    "        \"INT64\"\n",
    "    ),\n",
    "    httpclient.InferInput(\n",
    "        \"bbox\",\n",
    "        [1, 512, 4],\n",
    "        \"INT64\"\n",
    "    ),\n",
    "]\n",
    "\n",
    "outputs = [\n",
    "    httpclient.InferRequestedOutput('output', binary_data=True)\n",
    "]"
   ]
  },
  {
   "cell_type": "code",
   "execution_count": 4,
   "id": "described-nomination",
   "metadata": {},
   "outputs": [],
   "source": [
    "inputs[0].set_data_from_numpy(np.random.randint(0, 1, (1, 512)))\n",
    "inputs[1].set_data_from_numpy(np.random.randint(0, 1, (1, 512)))\n",
    "inputs[2].set_data_from_numpy(np.random.randint(0, 1, (1, 512)))\n",
    "inputs[3].set_data_from_numpy(np.random.randint(0, 1, (1, 512, 4)))"
   ]
  },
  {
   "cell_type": "markdown",
   "id": "discrete-celtic",
   "metadata": {},
   "source": [
    "# Run inference"
   ]
  },
  {
   "cell_type": "code",
   "execution_count": 12,
   "id": "applied-mailing",
   "metadata": {},
   "outputs": [],
   "source": [
    "results = client.infer(\n",
    "    'layoutlm_onnx',inputs, outputs=outputs,    \n",
    ")"
   ]
  },
  {
   "cell_type": "code",
   "execution_count": 13,
   "id": "western-worcester",
   "metadata": {},
   "outputs": [],
   "source": [
    "preds = results.as_numpy('output')"
   ]
  },
  {
   "cell_type": "code",
   "execution_count": 14,
   "id": "recorded-reset",
   "metadata": {},
   "outputs": [],
   "source": [
    "preds = np.argmax(preds, axis=1)"
   ]
  },
  {
   "cell_type": "code",
   "execution_count": 15,
   "id": "sonic-happening",
   "metadata": {},
   "outputs": [
    {
     "data": {
      "text/plain": [
       "array([[  0, 129]])"
      ]
     },
     "execution_count": 15,
     "metadata": {},
     "output_type": "execute_result"
    }
   ],
   "source": [
    "preds"
   ]
  }
 ],
 "metadata": {
  "kernelspec": {
   "display_name": "Python 3",
   "language": "python",
   "name": "python3"
  },
  "language_info": {
   "codemirror_mode": {
    "name": "ipython",
    "version": 3
   },
   "file_extension": ".py",
   "mimetype": "text/x-python",
   "name": "python",
   "nbconvert_exporter": "python",
   "pygments_lexer": "ipython3",
   "version": "3.8.8"
  }
 },
 "nbformat": 4,
 "nbformat_minor": 5
}
